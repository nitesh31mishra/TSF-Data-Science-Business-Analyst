{
  "nbformat": 4,
  "nbformat_minor": 0,
  "metadata": {
    "colab": {
      "name": "Task-2(Prediction using Superviesd ML).ipynb",
      "provenance": [],
      "collapsed_sections": []
    },
    "kernelspec": {
      "name": "python3",
      "display_name": "Python 3"
    }
  },
  "cells": [
    {
      "cell_type": "markdown",
      "metadata": {
        "id": "UqGuodimQgNn"
      },
      "source": [
        "#**Task 2 - Prediction using Superviesd ML**\n",
        "## Name - Nitesh Mishra\n",
        "-Predict the percentage of marks of an student based on the number of\n",
        "study hours.\n",
        "\n",
        "\n",
        "\n",
        "\n"
      ]
    },
    {
      "cell_type": "code",
      "metadata": {
        "id": "wtVvWDNiTx9L"
      },
      "source": [
        "import pandas as pd\n",
        "import numpy as np\n",
        "import matplotlib.pyplot as plt\n",
        "import sklearn\n"
      ],
      "execution_count": 45,
      "outputs": []
    },
    {
      "cell_type": "code",
      "metadata": {
        "id": "-cy0hzmSUJEG"
      },
      "source": [
        "#importing our dataset from this link\n",
        "data = pd.read_csv('http://bit.ly/w-data')"
      ],
      "execution_count": 84,
      "outputs": []
    },
    {
      "cell_type": "code",
      "metadata": {
        "id": "Jjh7JvwSU_vY",
        "outputId": "393470e5-1633-48d5-e684-2705448c8570",
        "colab": {
          "base_uri": "https://localhost:8080/",
          "height": 204
        }
      },
      "source": [
        "data.head()"
      ],
      "execution_count": 85,
      "outputs": [
        {
          "output_type": "execute_result",
          "data": {
            "text/html": [
              "<div>\n",
              "<style scoped>\n",
              "    .dataframe tbody tr th:only-of-type {\n",
              "        vertical-align: middle;\n",
              "    }\n",
              "\n",
              "    .dataframe tbody tr th {\n",
              "        vertical-align: top;\n",
              "    }\n",
              "\n",
              "    .dataframe thead th {\n",
              "        text-align: right;\n",
              "    }\n",
              "</style>\n",
              "<table border=\"1\" class=\"dataframe\">\n",
              "  <thead>\n",
              "    <tr style=\"text-align: right;\">\n",
              "      <th></th>\n",
              "      <th>Hours</th>\n",
              "      <th>Scores</th>\n",
              "    </tr>\n",
              "  </thead>\n",
              "  <tbody>\n",
              "    <tr>\n",
              "      <th>0</th>\n",
              "      <td>2.5</td>\n",
              "      <td>21</td>\n",
              "    </tr>\n",
              "    <tr>\n",
              "      <th>1</th>\n",
              "      <td>5.1</td>\n",
              "      <td>47</td>\n",
              "    </tr>\n",
              "    <tr>\n",
              "      <th>2</th>\n",
              "      <td>3.2</td>\n",
              "      <td>27</td>\n",
              "    </tr>\n",
              "    <tr>\n",
              "      <th>3</th>\n",
              "      <td>8.5</td>\n",
              "      <td>75</td>\n",
              "    </tr>\n",
              "    <tr>\n",
              "      <th>4</th>\n",
              "      <td>3.5</td>\n",
              "      <td>30</td>\n",
              "    </tr>\n",
              "  </tbody>\n",
              "</table>\n",
              "</div>"
            ],
            "text/plain": [
              "   Hours  Scores\n",
              "0    2.5      21\n",
              "1    5.1      47\n",
              "2    3.2      27\n",
              "3    8.5      75\n",
              "4    3.5      30"
            ]
          },
          "metadata": {
            "tags": []
          },
          "execution_count": 85
        }
      ]
    },
    {
      "cell_type": "markdown",
      "metadata": {
        "id": "siOlwXSXXcE8"
      },
      "source": [
        "###**Visualizing and Analysing our data**\n",
        "\n",
        "\n",
        "\n",
        "\n"
      ]
    },
    {
      "cell_type": "code",
      "metadata": {
        "id": "mh3OlEilYAjk",
        "outputId": "44e9fc18-ce94-493d-bf48-25669d09bae3",
        "colab": {
          "base_uri": "https://localhost:8080/",
          "height": 34
        }
      },
      "source": [
        "data.shape"
      ],
      "execution_count": null,
      "outputs": [
        {
          "output_type": "execute_result",
          "data": {
            "text/plain": [
              "(25, 2)"
            ]
          },
          "metadata": {
            "tags": []
          },
          "execution_count": 86
        }
      ]
    },
    {
      "cell_type": "code",
      "metadata": {
        "id": "ziB7fkUIYAAV",
        "outputId": "2bd74312-fc64-4d48-823d-b0849b32204b",
        "colab": {
          "base_uri": "https://localhost:8080/",
          "height": 68
        }
      },
      "source": [
        "#Checking missing or null values are present or not\n",
        "data.isna().sum()"
      ],
      "execution_count": null,
      "outputs": [
        {
          "output_type": "execute_result",
          "data": {
            "text/plain": [
              "Hours     0\n",
              "Scores    0\n",
              "dtype: int64"
            ]
          },
          "metadata": {
            "tags": []
          },
          "execution_count": 87
        }
      ]
    },
    {
      "cell_type": "code",
      "metadata": {
        "id": "fjCcoSVmVE-9",
        "outputId": "6fdfbd1c-b922-4ca4-c9f6-fc887e2f28f8",
        "colab": {
          "base_uri": "https://localhost:8080/",
          "height": 295
        }
      },
      "source": [
        "#Plotting our data to get clear understanding of our dataset and the relation among them.\n",
        "\n",
        "data.plot(x='Hours',y='Scores',style='o')\n",
        "plt.title('Hours vs Scores')\n",
        "plt.xlabel('Hours studied')\n",
        "plt.ylabel('Score')\n",
        "plt.show()"
      ],
      "execution_count": 111,
      "outputs": [
        {
          "output_type": "display_data",
          "data": {
            "image/png": "[encoded data removed]",
            "text/plain": [
              "<Figure size 432x288 with 1 Axes>"
            ]
          },
          "metadata": {
            "tags": [],
            "needs_background": "light"
          }
        }
      ]
    },
    {
      "cell_type": "markdown",
      "metadata": {
        "id": "x2W4moobXls9"
      },
      "source": [
        "By above graph we can clearly see that the score and hourse are strongly related to each other.\n",
        "And both of them have a positive corelation among them"
      ]
    },
    {
      "cell_type": "markdown",
      "metadata": {
        "id": "fReGnOPXX9W9"
      },
      "source": [
        "###**Building our linear regression model**"
      ]
    },
    {
      "cell_type": "code",
      "metadata": {
        "id": "wg3JNY8IWNzr"
      },
      "source": [
        "from sklearn import linear_model"
      ],
      "execution_count": 89,
      "outputs": []
    },
    {
      "cell_type": "code",
      "metadata": {
        "id": "po3bO9QejzRF"
      },
      "source": [
        "#Separating our features as input and oytput features\n",
        "x = data.iloc[:,:-1].values    #input feature\n",
        "y = data.iloc[:,-1] .values    #output feature (Predictive variable)"
      ],
      "execution_count": 90,
      "outputs": []
    },
    {
      "cell_type": "code",
      "metadata": {
        "id": "dTo5jYIQly4X"
      },
      "source": [
        "#Splitting our data into train and test set\n",
        "\n",
        "x_train,x_test,y_train,y_test = sklearn.model_selection.train_test_split(x,y,test_size=0.1,random_state=None)"
      ],
      "execution_count": 91,
      "outputs": []
    },
    {
      "cell_type": "code",
      "metadata": {
        "id": "V2iVkrFse-0C",
        "outputId": "4f714b90-2c04-4470-ff2a-70a03a809344",
        "colab": {
          "base_uri": "https://localhost:8080/",
          "height": 68
        }
      },
      "source": [
        "x_test"
      ],
      "execution_count": 92,
      "outputs": [
        {
          "output_type": "execute_result",
          "data": {
            "text/plain": [
              "array([[1.9],\n",
              "       [6.9],\n",
              "       [5.9]])"
            ]
          },
          "metadata": {
            "tags": []
          },
          "execution_count": 92
        }
      ]
    },
    {
      "cell_type": "code",
      "metadata": {
        "id": "u9SO4_aNkMR5"
      },
      "source": [
        "model = linear_model.LinearRegression()    #creating our model using LinearRegression() "
      ],
      "execution_count": 93,
      "outputs": []
    },
    {
      "cell_type": "code",
      "metadata": {
        "id": "zzhN8gV6kPPo",
        "outputId": "ce89c6b3-7928-4475-abcf-e0641c59a1c9",
        "colab": {
          "base_uri": "https://localhost:8080/",
          "height": 34
        }
      },
      "source": [
        "model.fit(x_train,y_train)         #Training our model on train set data"
      ],
      "execution_count": 94,
      "outputs": [
        {
          "output_type": "execute_result",
          "data": {
            "text/plain": [
              "LinearRegression(copy_X=True, fit_intercept=True, n_jobs=None, normalize=False)"
            ]
          },
          "metadata": {
            "tags": []
          },
          "execution_count": 94
        }
      ]
    },
    {
      "cell_type": "code",
      "metadata": {
        "id": "4CKVid_XZYKB",
        "outputId": "6c2a3c6e-0faa-4a8b-cec1-a82739d9704c",
        "colab": {
          "base_uri": "https://localhost:8080/",
          "height": 265
        }
      },
      "source": [
        "#Plotting our model i.e our hypothesis function\n",
        "\n",
        "line = model.coef_*x + model.intercept_\n",
        "plt.scatter(x,y)\n",
        "plt.plot(x,line,color='green')\n",
        "plt.show()"
      ],
      "execution_count": 103,
      "outputs": [
        {
          "output_type": "display_data",
          "data": {
            "image/png": "[encoded data removed]",
            "text/plain": [
              "<Figure size 432x288 with 1 Axes>"
            ]
          },
          "metadata": {
            "tags": [],
            "needs_background": "light"
          }
        }
      ]
    },
    {
      "cell_type": "markdown",
      "metadata": {
        "id": "YEFlPbLCgHOL"
      },
      "source": [
        "###**Testing our model**"
      ]
    },
    {
      "cell_type": "code",
      "metadata": {
        "id": "Vh3qukMDmU8V",
        "outputId": "799be35c-869e-4c84-a2ad-ecc207fa52f7",
        "colab": {
          "base_uri": "https://localhost:8080/",
          "height": 34
        }
      },
      "source": [
        "#This shows how well it does on our training data\n",
        "model.score(x_train,y_train)"
      ],
      "execution_count": 96,
      "outputs": [
        {
          "output_type": "execute_result",
          "data": {
            "text/plain": [
              "0.9518744851459241"
            ]
          },
          "metadata": {
            "tags": []
          },
          "execution_count": 96
        }
      ]
    },
    {
      "cell_type": "code",
      "metadata": {
        "id": "1TlKp-scmiCX",
        "outputId": "08bac225-8a98-4748-a821-08ca971b1e25",
        "colab": {
          "base_uri": "https://localhost:8080/",
          "height": 34
        }
      },
      "source": [
        "#Predicting the values on x_test data using our model\n",
        "y_pred = model.predict(x_test)\n",
        "y_pred"
      ],
      "execution_count": 97,
      "outputs": [
        {
          "output_type": "execute_result",
          "data": {
            "text/plain": [
              "array([20.64933086, 69.39313327, 59.64437278])"
            ]
          },
          "metadata": {
            "tags": []
          },
          "execution_count": 97
        }
      ]
    },
    {
      "cell_type": "code",
      "metadata": {
        "id": "8ajMkdHQnTeE",
        "outputId": "207c4925-0991-4d56-e6ec-8660323d8756",
        "colab": {
          "base_uri": "https://localhost:8080/",
          "height": 142
        }
      },
      "source": [
        "#Checking both actucal and predicted value\n",
        "df = pd.DataFrame({'Actual':y_test,'Predicted':y_pred})\n",
        "df"
      ],
      "execution_count": 98,
      "outputs": [
        {
          "output_type": "execute_result",
          "data": {
            "text/html": [
              "<div>\n",
              "<style scoped>\n",
              "    .dataframe tbody tr th:only-of-type {\n",
              "        vertical-align: middle;\n",
              "    }\n",
              "\n",
              "    .dataframe tbody tr th {\n",
              "        vertical-align: top;\n",
              "    }\n",
              "\n",
              "    .dataframe thead th {\n",
              "        text-align: right;\n",
              "    }\n",
              "</style>\n",
              "<table border=\"1\" class=\"dataframe\">\n",
              "  <thead>\n",
              "    <tr style=\"text-align: right;\">\n",
              "      <th></th>\n",
              "      <th>Actual</th>\n",
              "      <th>Predicted</th>\n",
              "    </tr>\n",
              "  </thead>\n",
              "  <tbody>\n",
              "    <tr>\n",
              "      <th>0</th>\n",
              "      <td>24</td>\n",
              "      <td>20.649331</td>\n",
              "    </tr>\n",
              "    <tr>\n",
              "      <th>1</th>\n",
              "      <td>76</td>\n",
              "      <td>69.393133</td>\n",
              "    </tr>\n",
              "    <tr>\n",
              "      <th>2</th>\n",
              "      <td>62</td>\n",
              "      <td>59.644373</td>\n",
              "    </tr>\n",
              "  </tbody>\n",
              "</table>\n",
              "</div>"
            ],
            "text/plain": [
              "   Actual  Predicted\n",
              "0      24  20.649331\n",
              "1      76  69.393133\n",
              "2      62  59.644373"
            ]
          },
          "metadata": {
            "tags": []
          },
          "execution_count": 98
        }
      ]
    },
    {
      "cell_type": "code",
      "metadata": {
        "id": "qDicj_80nsi2",
        "outputId": "13233680-308a-45de-9ab8-2e3a42a04689",
        "colab": {
          "base_uri": "https://localhost:8080/",
          "height": 34
        }
      },
      "source": [
        "#Checking accuracy of our model on test data\n",
        "model.score(x_test,y_test)"
      ],
      "execution_count": 100,
      "outputs": [
        {
          "output_type": "execute_result",
          "data": {
            "text/plain": [
              "0.9582688872047949"
            ]
          },
          "metadata": {
            "tags": []
          },
          "execution_count": 100
        }
      ]
    },
    {
      "cell_type": "markdown",
      "metadata": {
        "id": "YZo7X7RFk9g1"
      },
      "source": [
        "Using MSE (Mean Squared Eroor) evaluation metric to get the proper understanding of our model"
      ]
    },
    {
      "cell_type": "code",
      "metadata": {
        "id": "7zIzAErOlRi3",
        "outputId": "c0b8f722-2fd6-4b67-fadf-4ba933087be0",
        "colab": {
          "base_uri": "https://localhost:8080/",
          "height": 51
        }
      },
      "source": [
        "from sklearn import metrics\n",
        "\n",
        "mse = metrics.mean_squared_error(y_test,y_pred)   #using MSE as evaluation metrics we can evan have RMSE,MAE,R2,etc.\n",
        "print('Mean Squared error is {}'.format(mse))\n",
        "mae = metrics.mean_absolute_error(y_test,y_pred)\n",
        "print('Mean Absolute error is {}'.format(mae))"
      ],
      "execution_count": 112,
      "outputs": [
        {
          "output_type": "stream",
          "text": [
            "Mean Squared error is 20.1422171091523\n",
            "Mean Absolute error is 4.104387697701495\n"
          ],
          "name": "stdout"
        }
      ]
    },
    {
      "cell_type": "markdown",
      "metadata": {
        "id": "LjxvlE6Tgl4E"
      },
      "source": [
        "Making Prediction on our required task i.e\n",
        "We want to predict the score of student if he study for 9.25 hrs/day"
      ]
    },
    {
      "cell_type": "code",
      "metadata": {
        "id": "9D-ZYJkQntRw",
        "outputId": "2686322e-df9d-4074-dfc3-dd54f6479364",
        "colab": {
          "base_uri": "https://localhost:8080/",
          "height": 34
        }
      },
      "source": [
        "time = [9.25]\n",
        "output = model.predict([time])\n",
        "print('So percentage of marks student score if he studies for {} is {} '.format(time[0],output[0]))"
      ],
      "execution_count": 77,
      "outputs": [
        {
          "output_type": "stream",
          "text": [
            "So percentage of marks student score if he studies for 9.25 is 93.67656425238496 \n"
          ],
          "name": "stdout"
        }
      ]
    },
    {
      "cell_type": "code",
      "metadata": {
        "id": "bSWNIrMXhI-i"
      },
      "source": [
        ""
      ],
      "execution_count": null,
      "outputs": []
    }
  ]
}